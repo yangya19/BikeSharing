{
 "cells": [
  {
   "cell_type": "code",
   "execution_count": 16,
   "metadata": {},
   "outputs": [],
   "source": [
    "import pandas as pd\n",
    "import os"
   ]
  },
  {
   "cell_type": "code",
   "execution_count": 17,
   "metadata": {},
   "outputs": [],
   "source": [
    "# 1. Create a DataFrame for the 201908-citibike-tripdata data. \n",
    "citibike_data_to_load = os.path.join(\"201908-citibike-tripdata.csv\")\n",
    "citibike_data_df = pd.read_csv(citibike_data_to_load)"
   ]
  },
  {
   "cell_type": "code",
   "execution_count": 18,
   "metadata": {},
   "outputs": [
    {
     "data": {
      "text/plain": [
       "tripduration                 int64\n",
       "starttime                   object\n",
       "stoptime                    object\n",
       "start station id           float64\n",
       "start station name          object\n",
       "start station latitude     float64\n",
       "start station longitude    float64\n",
       "end station id             float64\n",
       "end station name            object\n",
       "end station latitude       float64\n",
       "end station longitude      float64\n",
       "bikeid                       int64\n",
       "usertype                    object\n",
       "birth year                   int64\n",
       "gender                       int64\n",
       "dtype: object"
      ]
     },
     "execution_count": 18,
     "metadata": {},
     "output_type": "execute_result"
    }
   ],
   "source": [
    "# 2. Check the datatypes of your columns. \n",
    "citibike_data_df.dtypes"
   ]
  },
  {
   "cell_type": "code",
   "execution_count": 19,
   "metadata": {},
   "outputs": [],
   "source": [
    "# 3. Convert the 'tripduration' column to datetime datatype.\n",
    "citibike_data_df['trip duration datetime'] =pd.to_datetime(citibike_data_df['tripduration'], unit='s') \n"
   ]
  },
  {
   "cell_type": "code",
   "execution_count": 20,
   "metadata": {},
   "outputs": [
    {
     "data": {
      "text/plain": [
       "tripduration                        int64\n",
       "starttime                          object\n",
       "stoptime                           object\n",
       "start station id                  float64\n",
       "start station name                 object\n",
       "start station latitude            float64\n",
       "start station longitude           float64\n",
       "end station id                    float64\n",
       "end station name                   object\n",
       "end station latitude              float64\n",
       "end station longitude             float64\n",
       "bikeid                              int64\n",
       "usertype                           object\n",
       "birth year                          int64\n",
       "gender                              int64\n",
       "trip duration datetime     datetime64[ns]\n",
       "dtype: object"
      ]
     },
     "execution_count": 20,
     "metadata": {},
     "output_type": "execute_result"
    }
   ],
   "source": [
    "# 4. Check the datatypes of your columns. \n",
    "citibike_data_df.dtypes"
   ]
  },
  {
   "cell_type": "code",
   "execution_count": 21,
   "metadata": {},
   "outputs": [],
   "source": [
    "#drop tripduration column from dataframe\n",
    "citibike_data_df = citibike_data_df.drop(columns=['tripduration'])"
   ]
  },
  {
   "cell_type": "code",
   "execution_count": 22,
   "metadata": {},
   "outputs": [],
   "source": [
    "# 5. Export the Dataframe as a new CSV file without the index.\n",
    "citibike_data_df.to_csv('citibike-data-new.csv', index=False)"
   ]
  }
 ],
 "metadata": {
  "interpreter": {
   "hash": "f4411c81df43accb2f27abae273554ada6c773ac6b3dfc5e29086535b818771c"
  },
  "kernelspec": {
   "display_name": "PythonData",
   "language": "python",
   "name": "python3"
  },
  "language_info": {
   "codemirror_mode": {
    "name": "ipython",
    "version": 3
   },
   "file_extension": ".py",
   "mimetype": "text/x-python",
   "name": "python",
   "nbconvert_exporter": "python",
   "pygments_lexer": "ipython3",
   "version": "3.10.4"
  }
 },
 "nbformat": 4,
 "nbformat_minor": 4
}
